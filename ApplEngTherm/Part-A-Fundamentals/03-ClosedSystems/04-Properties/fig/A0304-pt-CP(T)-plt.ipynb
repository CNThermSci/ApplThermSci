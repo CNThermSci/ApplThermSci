{
 "cells": [
  {
   "cell_type": "markdown",
   "metadata": {},
   "source": [
    "# $c_P(T)$ Plotting Notebook"
   ]
  },
  {
   "cell_type": "markdown",
   "metadata": {},
   "source": [
    "## Imports"
   ]
  },
  {
   "cell_type": "code",
   "execution_count": null,
   "metadata": {},
   "outputs": [],
   "source": [
    "using CSV"
   ]
  },
  {
   "cell_type": "code",
   "execution_count": null,
   "metadata": {},
   "outputs": [],
   "source": [
    "using DataFrames"
   ]
  },
  {
   "cell_type": "code",
   "execution_count": null,
   "metadata": {},
   "outputs": [],
   "source": [
    "using Plots"
   ]
  },
  {
   "cell_type": "markdown",
   "metadata": {},
   "source": [
    "## Load Data"
   ]
  },
  {
   "cell_type": "code",
   "execution_count": null,
   "metadata": {},
   "outputs": [],
   "source": [
    "df = DataFrame(CSV.File(\"A0304-pt-CP(T).csv\"));\n",
    "first(df, 5)"
   ]
  },
  {
   "cell_type": "code",
   "execution_count": null,
   "metadata": {},
   "outputs": [],
   "source": [
    "RU = 8.31447"
   ]
  },
  {
   "cell_type": "markdown",
   "metadata": {},
   "source": [
    "## Plotting"
   ]
  },
  {
   "cell_type": "code",
   "execution_count": null,
   "metadata": {},
   "outputs": [],
   "source": [
    "theme(:gruvbox_dark)"
   ]
  },
  {
   "cell_type": "code",
   "execution_count": null,
   "metadata": {},
   "outputs": [],
   "source": [
    "default(\n",
    "    titlefont = \"times\",\n",
    "    legendfont = \"times\",\n",
    "    guidefont = \"times\",\n",
    "    tickfont = \"times\",\n",
    ")"
   ]
  },
  {
   "cell_type": "code",
   "execution_count": null,
   "metadata": {},
   "outputs": [],
   "source": [
    "p1 = plot(\n",
    "    df.T,\n",
    "    df.He ./ RU,\n",
    "    size = (480, 270), # = 30 .* (16, 9)\n",
    "    label = \"He\",\n",
    "    lw = 1.5,\n",
    "    xlabel = \"T/K\",\n",
    "    ylabel = \"c̄P/R̄\",\n",
    "    gridlinewidth = 0.6,\n",
    "    xminorgrid = true,\n",
    "    yminorgrid = true,\n",
    "    leg = true,\n",
    "    xticks = [(0:500:3500)...],\n",
    "    yticks = 0.0:1.0:8.0,\n",
    "    xlims = (100.0, 3900.0),\n",
    "    ylims = (  2.0,    8.0),\n",
    "    xrotation = 0.0,\n",
    ")\n",
    "plot!(p1, df.T, df.H₂  ./ RU, label=\"H₂\", lw = 1.5)\n",
    "plot!(p1, df.T, df.ar  ./ RU, label=\"ar\", lw = 1.5)\n",
    "plot!(p1, df.T, df.O₂  ./ RU, label=\"O₂\", lw = 1.5)\n",
    "plot!(p1, df.T, df.H₂O ./ RU, label=\"H₂O\", lw = 1.5)\n",
    "plot!(p1, df.T, df.CO₂ ./ RU, label=\"CO₂\", lw = 1.5)"
   ]
  },
  {
   "cell_type": "code",
   "execution_count": null,
   "metadata": {},
   "outputs": [],
   "source": [
    "savefig(\"A0304-pt-CP(T).svg\")"
   ]
  },
  {
   "cell_type": "code",
   "execution_count": null,
   "metadata": {},
   "outputs": [],
   "source": []
  }
 ],
 "metadata": {
  "kernelspec": {
   "display_name": "Julia 1.4.1",
   "language": "julia",
   "name": "julia-1.4"
  },
  "language_info": {
   "file_extension": ".jl",
   "mimetype": "application/julia",
   "name": "julia",
   "version": "1.4.1"
  }
 },
 "nbformat": 4,
 "nbformat_minor": 2
}
