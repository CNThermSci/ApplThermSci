{
 "cells": [
  {
   "cell_type": "markdown",
   "metadata": {},
   "source": [
    "# $c_P(T)$ Data Generation for Selected Substances"
   ]
  },
  {
   "cell_type": "markdown",
   "metadata": {},
   "source": [
    "## Imports"
   ]
  },
  {
   "cell_type": "code",
   "execution_count": 1,
   "metadata": {},
   "outputs": [],
   "source": [
    "using DataFrames"
   ]
  },
  {
   "cell_type": "code",
   "execution_count": 2,
   "metadata": {},
   "outputs": [],
   "source": [
    "using CSV"
   ]
  },
  {
   "cell_type": "code",
   "execution_count": 3,
   "metadata": {},
   "outputs": [],
   "source": [
    "using PyCall"
   ]
  },
  {
   "cell_type": "code",
   "execution_count": 4,
   "metadata": {},
   "outputs": [
    {
     "data": {
      "text/plain": [
       "PyObject <module 'CoolProp.CoolProp' from '/usr/lib/python3.8/site-packages/CoolProp/CoolProp.cpython-38-x86_64-linux-gnu.so'>"
      ]
     },
     "execution_count": 4,
     "metadata": {},
     "output_type": "execute_result"
    }
   ],
   "source": [
    "CP = pyimport(\"CoolProp.CoolProp\")"
   ]
  },
  {
   "cell_type": "markdown",
   "metadata": {},
   "source": [
    "## Generate Data"
   ]
  },
  {
   "cell_type": "code",
   "execution_count": 5,
   "metadata": {},
   "outputs": [
    {
     "data": {
      "text/html": [
       "<table class=\"data-frame\"><thead><tr><th></th><th>T</th><th>He</th><th>H₂</th><th>ar</th><th>O₂</th><th>H₂O</th><th>CO₂</th></tr><tr><th></th><th>Float64</th><th>Float64</th><th>Float64</th><th>Float64</th><th>Float64</th><th>Float64</th><th>Float64</th></tr></thead><tbody><p>0 rows × 7 columns</p></tbody></table>"
      ],
      "text/latex": [
       "\\begin{tabular}{r|ccccccc}\n",
       "\t& T & He & H₂ & ar & O₂ & H₂O & CO₂\\\\\n",
       "\t\\hline\n",
       "\t& Float64 & Float64 & Float64 & Float64 & Float64 & Float64 & Float64\\\\\n",
       "\t\\hline\n",
       "\\end{tabular}\n"
      ],
      "text/plain": [
       "0×7 DataFrame\n"
      ]
     },
     "execution_count": 5,
     "metadata": {},
     "output_type": "execute_result"
    }
   ],
   "source": [
    "df = DataFrame(\n",
    "    T=Float64[],\n",
    "    He=Float64[],\n",
    "    H₂=Float64[],\n",
    "    ar=Float64[],\n",
    "    O₂=Float64[],\n",
    "    H₂O=Float64[],\n",
    "    CO₂=Float64[],\n",
    ")"
   ]
  },
  {
   "cell_type": "code",
   "execution_count": 6,
   "metadata": {},
   "outputs": [
    {
     "data": {
      "text/plain": [
       "dRow (generic function with 1 method)"
      ]
     },
     "execution_count": 6,
     "metadata": {},
     "output_type": "execute_result"
    }
   ],
   "source": [
    "function dRow(T::Float64; P::Float64 = 1.0)\n",
    "    FL = (\"He\", \"H2\", \"air\", \"O2\", \"H2O\", \"CO2\")\n",
    "    tuple(T, (CP.PropsSI(\"CPMOLAR\", \"P\", P, \"T\", T, fl) for fl in FL)...)\n",
    "end"
   ]
  },
  {
   "cell_type": "markdown",
   "metadata": {},
   "source": [
    "### $275\\mbox{K} \\leqslant T \\leqslant 325\\mbox{K}$"
   ]
  },
  {
   "cell_type": "code",
   "execution_count": 7,
   "metadata": {},
   "outputs": [],
   "source": [
    "for T in 275.0:5.0:325.0\n",
    "    push!(df, dRow(T))\n",
    "end"
   ]
  },
  {
   "cell_type": "code",
   "execution_count": 8,
   "metadata": {},
   "outputs": [
    {
     "data": {
      "text/html": [
       "<table class=\"data-frame\"><thead><tr><th></th><th>T</th><th>He</th><th>H₂</th><th>ar</th><th>O₂</th><th>H₂O</th><th>CO₂</th></tr><tr><th></th><th>Float64</th><th>Float64</th><th>Float64</th><th>Float64</th><th>Float64</th><th>Float64</th><th>Float64</th></tr></thead><tbody><p>5 rows × 7 columns</p><tr><th>1</th><td>305.0</td><td>20.7861</td><td>28.881</td><td>29.1111</td><td>29.4104</td><td>33.619</td><td>37.4529</td></tr><tr><th>2</th><td>310.0</td><td>20.7861</td><td>28.9122</td><td>29.119</td><td>29.4371</td><td>33.6433</td><td>37.678</td></tr><tr><th>3</th><td>315.0</td><td>20.7861</td><td>28.9409</td><td>29.1273</td><td>29.4651</td><td>33.6688</td><td>37.9008</td></tr><tr><th>4</th><td>320.0</td><td>20.7861</td><td>28.9673</td><td>29.1361</td><td>29.4942</td><td>33.6955</td><td>38.1212</td></tr><tr><th>5</th><td>325.0</td><td>20.7861</td><td>28.9917</td><td>29.1454</td><td>29.5247</td><td>33.7233</td><td>38.3392</td></tr></tbody></table>"
      ],
      "text/latex": [
       "\\begin{tabular}{r|ccccccc}\n",
       "\t& T & He & H₂ & ar & O₂ & H₂O & CO₂\\\\\n",
       "\t\\hline\n",
       "\t& Float64 & Float64 & Float64 & Float64 & Float64 & Float64 & Float64\\\\\n",
       "\t\\hline\n",
       "\t1 & 305.0 & 20.7861 & 28.881 & 29.1111 & 29.4104 & 33.619 & 37.4529 \\\\\n",
       "\t2 & 310.0 & 20.7861 & 28.9122 & 29.119 & 29.4371 & 33.6433 & 37.678 \\\\\n",
       "\t3 & 315.0 & 20.7861 & 28.9409 & 29.1273 & 29.4651 & 33.6688 & 37.9008 \\\\\n",
       "\t4 & 320.0 & 20.7861 & 28.9673 & 29.1361 & 29.4942 & 33.6955 & 38.1212 \\\\\n",
       "\t5 & 325.0 & 20.7861 & 28.9917 & 29.1454 & 29.5247 & 33.7233 & 38.3392 \\\\\n",
       "\\end{tabular}\n"
      ],
      "text/plain": [
       "5×7 DataFrame\n",
       "│ Row │ T       │ He      │ H₂      │ ar      │ O₂      │ H₂O     │ CO₂     │\n",
       "│     │ \u001b[90mFloat64\u001b[39m │ \u001b[90mFloat64\u001b[39m │ \u001b[90mFloat64\u001b[39m │ \u001b[90mFloat64\u001b[39m │ \u001b[90mFloat64\u001b[39m │ \u001b[90mFloat64\u001b[39m │ \u001b[90mFloat64\u001b[39m │\n",
       "├─────┼─────────┼─────────┼─────────┼─────────┼─────────┼─────────┼─────────┤\n",
       "│ 1   │ 305.0   │ 20.7861 │ 28.881  │ 29.1111 │ 29.4104 │ 33.619  │ 37.4529 │\n",
       "│ 2   │ 310.0   │ 20.7861 │ 28.9122 │ 29.119  │ 29.4371 │ 33.6433 │ 37.678  │\n",
       "│ 3   │ 315.0   │ 20.7861 │ 28.9409 │ 29.1273 │ 29.4651 │ 33.6688 │ 37.9008 │\n",
       "│ 4   │ 320.0   │ 20.7861 │ 28.9673 │ 29.1361 │ 29.4942 │ 33.6955 │ 38.1212 │\n",
       "│ 5   │ 325.0   │ 20.7861 │ 28.9917 │ 29.1454 │ 29.5247 │ 33.7233 │ 38.3392 │"
      ]
     },
     "execution_count": 8,
     "metadata": {},
     "output_type": "execute_result"
    }
   ],
   "source": [
    "last(df, 5)"
   ]
  },
  {
   "cell_type": "markdown",
   "metadata": {},
   "source": [
    "### $325\\mbox{K} < T \\leqslant 800\\mbox{K}$"
   ]
  },
  {
   "cell_type": "code",
   "execution_count": 9,
   "metadata": {},
   "outputs": [],
   "source": [
    "for T in 350.0:25.0:800.0\n",
    "    push!(df, dRow(T))\n",
    "end"
   ]
  },
  {
   "cell_type": "code",
   "execution_count": 10,
   "metadata": {
    "scrolled": true
   },
   "outputs": [
    {
     "data": {
      "text/html": [
       "<table class=\"data-frame\"><thead><tr><th></th><th>T</th><th>He</th><th>H₂</th><th>ar</th><th>O₂</th><th>H₂O</th><th>CO₂</th></tr><tr><th></th><th>Float64</th><th>Float64</th><th>Float64</th><th>Float64</th><th>Float64</th><th>Float64</th><th>Float64</th></tr></thead><tbody><p>5 rows × 7 columns</p><tr><th>1</th><td>700.0</td><td>20.7861</td><td>29.4594</td><td>31.1306</td><td>32.9852</td><td>37.4955</td><td>49.5703</td></tr><tr><th>2</th><td>725.0</td><td>20.7861</td><td>29.5018</td><td>31.3051</td><td>33.1865</td><td>37.7972</td><td>50.0697</td></tr><tr><th>3</th><td>750.0</td><td>20.7861</td><td>29.5482</td><td>31.4785</td><td>33.3789</td><td>38.1023</td><td>50.5471</td></tr><tr><th>4</th><td>775.0</td><td>20.7861</td><td>29.5985</td><td>31.6501</td><td>33.5627</td><td>38.4104</td><td>51.0036</td></tr><tr><th>5</th><td>800.0</td><td>20.7861</td><td>29.6528</td><td>31.8193</td><td>33.738</td><td>38.7214</td><td>51.44</td></tr></tbody></table>"
      ],
      "text/latex": [
       "\\begin{tabular}{r|ccccccc}\n",
       "\t& T & He & H₂ & ar & O₂ & H₂O & CO₂\\\\\n",
       "\t\\hline\n",
       "\t& Float64 & Float64 & Float64 & Float64 & Float64 & Float64 & Float64\\\\\n",
       "\t\\hline\n",
       "\t1 & 700.0 & 20.7861 & 29.4594 & 31.1306 & 32.9852 & 37.4955 & 49.5703 \\\\\n",
       "\t2 & 725.0 & 20.7861 & 29.5018 & 31.3051 & 33.1865 & 37.7972 & 50.0697 \\\\\n",
       "\t3 & 750.0 & 20.7861 & 29.5482 & 31.4785 & 33.3789 & 38.1023 & 50.5471 \\\\\n",
       "\t4 & 775.0 & 20.7861 & 29.5985 & 31.6501 & 33.5627 & 38.4104 & 51.0036 \\\\\n",
       "\t5 & 800.0 & 20.7861 & 29.6528 & 31.8193 & 33.738 & 38.7214 & 51.44 \\\\\n",
       "\\end{tabular}\n"
      ],
      "text/plain": [
       "5×7 DataFrame\n",
       "│ Row │ T       │ He      │ H₂      │ ar      │ O₂      │ H₂O     │ CO₂     │\n",
       "│     │ \u001b[90mFloat64\u001b[39m │ \u001b[90mFloat64\u001b[39m │ \u001b[90mFloat64\u001b[39m │ \u001b[90mFloat64\u001b[39m │ \u001b[90mFloat64\u001b[39m │ \u001b[90mFloat64\u001b[39m │ \u001b[90mFloat64\u001b[39m │\n",
       "├─────┼─────────┼─────────┼─────────┼─────────┼─────────┼─────────┼─────────┤\n",
       "│ 1   │ 700.0   │ 20.7861 │ 29.4594 │ 31.1306 │ 32.9852 │ 37.4955 │ 49.5703 │\n",
       "│ 2   │ 725.0   │ 20.7861 │ 29.5018 │ 31.3051 │ 33.1865 │ 37.7972 │ 50.0697 │\n",
       "│ 3   │ 750.0   │ 20.7861 │ 29.5482 │ 31.4785 │ 33.3789 │ 38.1023 │ 50.5471 │\n",
       "│ 4   │ 775.0   │ 20.7861 │ 29.5985 │ 31.6501 │ 33.5627 │ 38.4104 │ 51.0036 │\n",
       "│ 5   │ 800.0   │ 20.7861 │ 29.6528 │ 31.8193 │ 33.738  │ 38.7214 │ 51.44   │"
      ]
     },
     "execution_count": 10,
     "metadata": {},
     "output_type": "execute_result"
    }
   ],
   "source": [
    "last(df, 5)"
   ]
  },
  {
   "cell_type": "markdown",
   "metadata": {},
   "source": [
    "### $800\\mbox{K} < T \\leqslant 3000\\mbox{K}$"
   ]
  },
  {
   "cell_type": "code",
   "execution_count": 11,
   "metadata": {},
   "outputs": [],
   "source": [
    "for T in 900.0:100.0:3000.0\n",
    "    push!(df, dRow(T))\n",
    "end"
   ]
  },
  {
   "cell_type": "code",
   "execution_count": 12,
   "metadata": {
    "scrolled": true
   },
   "outputs": [
    {
     "data": {
      "text/html": [
       "<table class=\"data-frame\"><thead><tr><th></th><th>T</th><th>He</th><th>H₂</th><th>ar</th><th>O₂</th><th>H₂O</th><th>CO₂</th></tr><tr><th></th><th>Float64</th><th>Float64</th><th>Float64</th><th>Float64</th><th>Float64</th><th>Float64</th><th>Float64</th></tr></thead><tbody><p>5 rows × 7 columns</p><tr><th>1</th><td>2600.0</td><td>20.7861</td><td>36.1877</td><td>37.0764</td><td>39.061</td><td>54.263</td><td>61.5035</td></tr><tr><th>2</th><td>2700.0</td><td>20.7861</td><td>36.426</td><td>37.1915</td><td>39.2583</td><td>54.6466</td><td>61.6396</td></tr><tr><th>3</th><td>2800.0</td><td>20.7861</td><td>36.6482</td><td>37.3005</td><td>39.4497</td><td>55.0023</td><td>61.7632</td></tr><tr><th>4</th><td>2900.0</td><td>20.7861</td><td>36.8554</td><td>37.4039</td><td>39.6348</td><td>55.333</td><td>61.8759</td></tr><tr><th>5</th><td>3000.0</td><td>20.7861</td><td>37.0487</td><td>37.5024</td><td>39.8136</td><td>55.6409</td><td>61.9788</td></tr></tbody></table>"
      ],
      "text/latex": [
       "\\begin{tabular}{r|ccccccc}\n",
       "\t& T & He & H₂ & ar & O₂ & H₂O & CO₂\\\\\n",
       "\t\\hline\n",
       "\t& Float64 & Float64 & Float64 & Float64 & Float64 & Float64 & Float64\\\\\n",
       "\t\\hline\n",
       "\t1 & 2600.0 & 20.7861 & 36.1877 & 37.0764 & 39.061 & 54.263 & 61.5035 \\\\\n",
       "\t2 & 2700.0 & 20.7861 & 36.426 & 37.1915 & 39.2583 & 54.6466 & 61.6396 \\\\\n",
       "\t3 & 2800.0 & 20.7861 & 36.6482 & 37.3005 & 39.4497 & 55.0023 & 61.7632 \\\\\n",
       "\t4 & 2900.0 & 20.7861 & 36.8554 & 37.4039 & 39.6348 & 55.333 & 61.8759 \\\\\n",
       "\t5 & 3000.0 & 20.7861 & 37.0487 & 37.5024 & 39.8136 & 55.6409 & 61.9788 \\\\\n",
       "\\end{tabular}\n"
      ],
      "text/plain": [
       "5×7 DataFrame\n",
       "│ Row │ T       │ He      │ H₂      │ ar      │ O₂      │ H₂O     │ CO₂     │\n",
       "│     │ \u001b[90mFloat64\u001b[39m │ \u001b[90mFloat64\u001b[39m │ \u001b[90mFloat64\u001b[39m │ \u001b[90mFloat64\u001b[39m │ \u001b[90mFloat64\u001b[39m │ \u001b[90mFloat64\u001b[39m │ \u001b[90mFloat64\u001b[39m │\n",
       "├─────┼─────────┼─────────┼─────────┼─────────┼─────────┼─────────┼─────────┤\n",
       "│ 1   │ 2600.0  │ 20.7861 │ 36.1877 │ 37.0764 │ 39.061  │ 54.263  │ 61.5035 │\n",
       "│ 2   │ 2700.0  │ 20.7861 │ 36.426  │ 37.1915 │ 39.2583 │ 54.6466 │ 61.6396 │\n",
       "│ 3   │ 2800.0  │ 20.7861 │ 36.6482 │ 37.3005 │ 39.4497 │ 55.0023 │ 61.7632 │\n",
       "│ 4   │ 2900.0  │ 20.7861 │ 36.8554 │ 37.4039 │ 39.6348 │ 55.333  │ 61.8759 │\n",
       "│ 5   │ 3000.0  │ 20.7861 │ 37.0487 │ 37.5024 │ 39.8136 │ 55.6409 │ 61.9788 │"
      ]
     },
     "execution_count": 12,
     "metadata": {},
     "output_type": "execute_result"
    }
   ],
   "source": [
    "last(df, 5)"
   ]
  },
  {
   "cell_type": "markdown",
   "metadata": {},
   "source": [
    "## Save Data"
   ]
  },
  {
   "cell_type": "code",
   "execution_count": 13,
   "metadata": {},
   "outputs": [
    {
     "data": {
      "text/plain": [
       "\"A0304-pt-CP(T).csv\""
      ]
     },
     "execution_count": 13,
     "metadata": {},
     "output_type": "execute_result"
    }
   ],
   "source": [
    "CSV.write(\"A0304-pt-CP(T).csv\", df)"
   ]
  },
  {
   "cell_type": "code",
   "execution_count": null,
   "metadata": {},
   "outputs": [],
   "source": []
  }
 ],
 "metadata": {
  "kernelspec": {
   "display_name": "Julia 1.4.1",
   "language": "julia",
   "name": "julia-1.4"
  },
  "language_info": {
   "file_extension": ".jl",
   "mimetype": "application/julia",
   "name": "julia",
   "version": "1.4.1"
  }
 },
 "nbformat": 4,
 "nbformat_minor": 2
}
